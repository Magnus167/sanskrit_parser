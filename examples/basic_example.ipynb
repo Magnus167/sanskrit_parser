{
 "cells": [
  {
   "cell_type": "markdown",
   "metadata": {
    "id": "gOp8762Ea8eQ"
   },
   "source": [
    "# Sanskrit Parser Examples\n",
    "\n",
    "The `sanskrit_parser` module supports 3 different usages, in order of increasing complexity:\n",
    "1. tags - Morphological analysis of a word\n",
    "2. sandhi - Sandhi split of a phrase\n",
    "3. vakya - Morpho-syntactic analysis of a sentence (after Sandhi split)\n",
    "\n",
    "In this notebook, we will see how to use the API to perform the latter two tasks - sandhi splitting and vakya analysis in python code.\n",
    "\n",
    "Command line usage of the scripts is very similar and is documented [here](https://kmadathil.github.io/sanskrit_parser/build/html/)"
   ]
  },
  {
   "cell_type": "markdown",
   "metadata": {
    "id": "po7dmavAbJl_"
   },
   "source": [
    "## Installation\n",
    "\n",
    "Sanskrit Parser can be easily installed using pip. In this notebook, we will directly install from the github repo to get the latest version of the package. \n",
    "\n",
    "If you have already installed the sanskrit_parser package, you can skip this step.\n"
   ]
  },
  {
   "cell_type": "code",
   "execution_count": null,
   "metadata": {
    "id": "YcDzb3zIa2VD"
   },
   "outputs": [],
   "source": [
    "!pip install git+https://github.com/kmadathil/sanskrit_parser"
   ]
  },
  {
   "cell_type": "markdown",
   "metadata": {
    "id": "oCZ0t8XdbnsV"
   },
   "source": [
    "Alternately, to install from the latest version on pypi, uncomment and run the cell below"
   ]
  },
  {
   "cell_type": "code",
   "execution_count": null,
   "metadata": {
    "id": "O9mKlV3mb6fh"
   },
   "outputs": [],
   "source": [
    "# !pip install sanskrit_parser"
   ]
  },
  {
   "cell_type": "markdown",
   "metadata": {
    "id": "YCYOYyQ9b-uW"
   },
   "source": [
    "## Sandhi Splitting\n",
    "\n",
    "Splitting sandhis in a long phrase/sentence to obtain the constituent words can be done in just a few lines of code. \n",
    "\n",
    "First, let's import the `Parser` class that is used for most of the tasks.\n",
    "\n"
   ]
  },
  {
   "cell_type": "code",
   "execution_count": 1,
   "metadata": {
    "colab": {
     "base_uri": "https://localhost:8080/",
     "height": 442
    },
    "executionInfo": {
     "elapsed": 415,
     "status": "error",
     "timestamp": 1613237868231,
     "user": {
      "displayName": "Avinash L Varna",
      "photoUrl": "",
      "userId": "16566571562483192277"
     },
     "user_tz": 420
    },
    "id": "b4yymbkfd6VG",
    "outputId": "b948a517-b009-4759-d78e-4cd880ae97dd"
   },
   "outputs": [],
   "source": [
    "from sanskrit_parser import Parser"
   ]
  },
  {
   "cell_type": "markdown",
   "metadata": {
    "id": "pvhXPWoneEcl"
   },
   "source": [
    "The `Parser` object supports various options for controlling the parsing, as well as the input and output formats. Here, let us specify that we want output in Devanagari (default is SLP1). The other options available can be seen [here](https://kmadathil.github.io/sanskrit_parser/build/html/sanskrit_parser_api.html#sanskrit_parser.api.Parser)"
   ]
  },
  {
   "cell_type": "code",
   "execution_count": 2,
   "metadata": {},
   "outputs": [],
   "source": [
    "parser = Parser(output_encoding='Devanagari')"
   ]
  },
  {
   "cell_type": "markdown",
   "metadata": {},
   "source": [
    "As an example, let us try a long phrase from the चम्पूरामायणम् of भोजः । We will ask the parser to find at most 10 splits."
   ]
  },
  {
   "cell_type": "code",
   "execution_count": 3,
   "metadata": {
    "scrolled": true
   },
   "outputs": [
    {
     "name": "stdout",
     "output_type": "stream",
     "text": [
      "['तस्मात्', 'समस्त', 'क्षत्र', 'वर्ग', 'गर्व', 'पाटन', 'वरिष्ठ', 'धारा', 'परशु', 'अध', 'भरण', 'भीषण', 'वेष', 'भार्गव', 'भङ्गात्', 'अपरि', 'छिन्न', 'तर', 'शौर्य', 'शालि', 'नि']\n",
      "['तस्मात्', 'समस्त', 'क्षत्र', 'वर्ग', 'गर्व', 'पाटन', 'वरिष्ठ', 'ध', 'आरा', 'परश्वध', 'भरण', 'भीषण', 'वेष', 'भार्गव', 'भङ्गात्', 'अपरि', 'छिन्न', 'तर', 'शौर्य', 'शालि', 'नि']\n",
      "['तस्मात्', 'समस्त', 'क्षत्र', 'वर्ग', 'गर्व', 'पाटन', 'वरिष्ठ', 'धारा', 'परशु', 'अध', 'भरण', 'भीषण', 'वेष', 'भार्गव', 'भङ्गात्', 'अपरि', 'छिन्न', 'तर', 'शौर्य', 'शालिनि']\n",
      "['तस्मात्', 'समस्त', 'क्षत्र', 'वर्ग', 'गर्व', 'पाटन', 'वरिष्ठ', 'ध', 'आरा', 'परश्वध', 'भरण', 'भीषण', 'वेष', 'भार्गव', 'भङ्गात्', 'अपरि', 'छिन्न', 'तर', 'शौर्य', 'शालिनि']\n",
      "['तस्मात्', 'समस्त', 'क्षत्र', 'वर्ग', 'गर्व', 'पाटन', 'वरिष्ठ', 'धारा', 'परश्वध', 'भरण', 'भीषण', 'वेष', 'भार्गव', 'भङ्गात्', 'अपरि', 'छिन्न', 'तर', 'शौर्य', 'शालि', 'नि']\n",
      "['तस्मात्', 'समस्त', 'क्षत्र', 'वर्ग', 'गर्व', 'पाट', 'न', 'वरिष्ठ', 'धारा', 'परशु', 'अध', 'भरण', 'भीषण', 'वेष', 'भार्गव', 'भङ्गात्', 'अपरि', 'छिन्न', 'तर', 'शौर्य', 'शालिनि']\n",
      "['तस्मात्', 'समस्त', 'क्षत्र', 'वर्ग', 'गर्व', 'पाटन', 'वरिष्ठ', 'धारा', 'परश्वध', 'भरण', 'भीषण', 'वेष', 'भार्गव', 'भङ्गात्', 'अपरि', 'छिन्न', 'तर', 'शौर्य', 'शालिनि']\n",
      "['तस्मात्', 'समस्त', 'क्षत्र', 'वर्ग', 'गर्व', 'पाट', 'न', 'वरिष्ठ', 'धारा', 'परश्वध', 'भरण', 'भीषण', 'वेष', 'भार्गव', 'भङ्गात्', 'अपरि', 'छिन्न', 'तर', 'शौर्य', 'शालिनि']\n",
      "['तस्मात्', 'समस्त', 'क्षत्र', 'वर्ग', 'गर्व', 'पाटन', 'वरिष्ठ', 'धारा', 'परश्व', 'ध', 'भरण', 'भीषण', 'वेष', 'भार्गव', 'भङ्गात्', 'अपरि', 'छिन्न', 'तर', 'शौर्य', 'शालि', 'नि']\n",
      "['तस्मात्', 'समस्त', 'क्षत्र', 'वर्ग', 'गर्व', 'पाटन', 'वरिष्ठ', 'धारा', 'परश्व', 'ध', 'भरण', 'भीषण', 'वेष', 'भार्गव', 'भङ्गात्', 'अपरि', 'छिन्न', 'तर', 'शौर्य', 'शालिनि']\n"
     ]
    }
   ],
   "source": [
    "text = 'तस्मात्समस्तक्षत्रवर्गगर्वपाटनवरिष्ठधारापरश्वधभरणभीषणवेषभार्गवभङ्गादपरिच्छिन्नतरशौर्यशालिनि'\n",
    "splits = parser.split(text, limit=10)\n",
    "for split in splits:\n",
    "    print(f'{split}')"
   ]
  },
  {
   "cell_type": "markdown",
   "metadata": {},
   "source": [
    "As we can see, the parser did a decent job of splitting this long phrase, though it does some over splitting. Hopefully, this should point a student in the correct direction."
   ]
  },
  {
   "cell_type": "markdown",
   "metadata": {},
   "source": [
    "## Vakya Analysis\n",
    "\n",
    "Next, let us use the parser for analyzing a sentence and understanding the relationships among the words. We will use a simple sentence to illustrate the parser's capabilities."
   ]
  },
  {
   "cell_type": "code",
   "execution_count": 4,
   "metadata": {},
   "outputs": [],
   "source": [
    "sentence = 'देवदत्तः ग्रामं गच्छति'"
   ]
  },
  {
   "cell_type": "markdown",
   "metadata": {},
   "source": [
    "We can now split the sentence to convert it to the parser's internal representation. Since we know that there is no sandhi in this sentence, we can pass `pre_segmented=True` to indicate this to the parser, and retain just the first split."
   ]
  },
  {
   "cell_type": "code",
   "execution_count": 5,
   "metadata": {},
   "outputs": [
    {
     "name": "stdout",
     "output_type": "stream",
     "text": [
      "['देवदत्तः', 'ग्रामम्', 'गच्छति']\n"
     ]
    }
   ],
   "source": [
    "split = parser.split(sentence, pre_segmented=True)[0]\n",
    "print(f'{split}')"
   ]
  },
  {
   "cell_type": "code",
   "execution_count": 6,
   "metadata": {},
   "outputs": [
    {
     "name": "stdout",
     "output_type": "stream",
     "text": [
      "Parse 0\n",
      "देवदत्तः => (देवदत्त, ['एकवचनम्', 'पुंल्लिङ्गम्', 'प्रथमाविभक्तिः']) : कर्ता of गच्छति\n",
      "ग्रामम् => (ग्राम, ['एकवचनम्', 'पुंल्लिङ्गम्', 'द्वितीयाविभक्तिः']) : कर्म of गच्छति\n",
      "गच्छति => (गम्, ['प्राथमिकः', 'एकवचनम्', 'कर्तरि', 'लट्', 'प्रथमपुरुषः', 'परस्मैपदम्'])\n",
      "Parse 1\n",
      "देवदत्तः => (देवदत्त, ['एकवचनम्', 'पुंल्लिङ्गम्', 'प्रथमाविभक्तिः']) : कर्ता of गच्छति\n",
      "ग्रामम् => (ग्राम, ['नपुंसकलिङ्गम्', 'एकवचनम्', 'द्वितीयाविभक्तिः']) : कर्म of गच्छति\n",
      "गच्छति => (गम्, ['प्राथमिकः', 'एकवचनम्', 'कर्तरि', 'लट्', 'प्रथमपुरुषः', 'परस्मैपदम्'])\n"
     ]
    }
   ],
   "source": [
    "parses = list(split.parse(limit=2))\n",
    "for i, parse in enumerate(parses):\n",
    "    print(f'Parse {i}')\n",
    "    print(f'{parse}')"
   ]
  },
  {
   "cell_type": "markdown",
   "metadata": {},
   "source": [
    "For visualization, the parses can be converted to the GraphViz dot format."
   ]
  },
  {
   "cell_type": "code",
   "execution_count": 7,
   "metadata": {},
   "outputs": [
    {
     "name": "stdout",
     "output_type": "stream",
     "text": [
      "digraph  {\n",
      "\"devadattas [devadatta, {ekavacanam, puMlliNgam, praTamAviBaktiH}] 0\";\n",
      "\"gacCati [gam, {prATamikaH, ekavacanam, kartari, law, praTamapuruzaH, parasmEpadam}] 2\";\n",
      "\"grAmam [grAma, {ekavacanam, puMlliNgam, dvitIyAviBaktiH}] 1\";\n",
      "\"gacCati [gam, {prATamikaH, ekavacanam, kartari, law, praTamapuruzaH, parasmEpadam}] 2\" -> \"devadattas [devadatta, {ekavacanam, puMlliNgam, praTamAviBaktiH}] 0\"  [key=0, label=kartA];\n",
      "\"gacCati [gam, {prATamikaH, ekavacanam, kartari, law, praTamapuruzaH, parasmEpadam}] 2\" -> \"grAmam [grAma, {ekavacanam, puMlliNgam, dvitIyAviBaktiH}] 1\"  [key=0, label=karma];\n",
      "}\n",
      "\n"
     ]
    }
   ],
   "source": [
    "print(parses[0].to_dot())"
   ]
  },
  {
   "cell_type": "markdown",
   "metadata": {},
   "source": [
    "We can convert the DOT representation to a graph. Below is an online DOT visualizer. Copy/paste the DOT to the left-hand window to see the graph in the righ-hand window."
   ]
  },
  {
   "cell_type": "code",
   "execution_count": 8,
   "metadata": {},
   "outputs": [
    {
     "data": {
      "text/html": [
       "<iframe src=\"https://dreampuf.github.io/GraphvizOnline/\" width=\"1200\" height=\"500\"></iframe>\n"
      ],
      "text/plain": [
       "<IPython.core.display.HTML object>"
      ]
     },
     "metadata": {},
     "output_type": "display_data"
    }
   ],
   "source": [
    "%%html\n",
    "<iframe src=\"https://dreampuf.github.io/GraphvizOnline/\" width=\"1200\" height=\"500\"></iframe>"
   ]
  },
  {
   "cell_type": "markdown",
   "metadata": {},
   "source": [
    "This shows the basic capabilities of the `sanskrit_parser`. For advanced usages, please consult the documentation."
   ]
  }
 ],
 "metadata": {
  "colab": {
   "authorship_tag": "ABX9TyM4mZrh48QdMuENtyPC8HdR",
   "name": "Sanskrit Parser Examples.ipynb",
   "provenance": []
  },
  "kernelspec": {
   "display_name": "Python 3",
   "language": "python",
   "name": "python3"
  },
  "language_info": {
   "codemirror_mode": {
    "name": "ipython",
    "version": 3
   },
   "file_extension": ".py",
   "mimetype": "text/x-python",
   "name": "python",
   "nbconvert_exporter": "python",
   "pygments_lexer": "ipython3",
   "version": "3.8.5"
  }
 },
 "nbformat": 4,
 "nbformat_minor": 1
}
